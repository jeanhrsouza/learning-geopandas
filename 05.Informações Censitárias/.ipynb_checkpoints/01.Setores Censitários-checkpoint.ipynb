{
 "cells": [
  {
   "cell_type": "markdown",
   "metadata": {},
   "source": [
    "# Setores Censitários"
   ]
  },
  {
   "cell_type": "markdown",
   "metadata": {},
   "source": [
    "## Fontes:"
   ]
  },
  {
   "cell_type": "markdown",
   "metadata": {},
   "source": [
    "ftp://geoftp.ibge.gov.br/recortes_para_fins_estatisticos/malha_de_setores_censitarios/censo_2010/base_de_faces_de_logradouros/RJ/\n",
    "\n",
    "Identificar código do município: https://cidades.ibge.gov.br/brasil/rj/rio-de-janeiro/panorama"
   ]
  },
  {
   "cell_type": "markdown",
   "metadata": {},
   "source": [
    "### Importando  "
   ]
  },
  {
   "cell_type": "code",
   "execution_count": 1,
   "metadata": {},
   "outputs": [],
   "source": [
    "%matplotlib inline\n",
    "import pandas as pd\n",
    "import geopandas as gpd"
   ]
  },
  {
   "cell_type": "code",
   "execution_count": 2,
   "metadata": {},
   "outputs": [],
   "source": [
    "import os\n",
    "import zipfile\n",
    "import shutil"
   ]
  },
  {
   "cell_type": "markdown",
   "metadata": {},
   "source": [
    "### Extraindo arquivos compactados"
   ]
  },
  {
   "cell_type": "code",
   "execution_count": 3,
   "metadata": {},
   "outputs": [],
   "source": [
    "#criar diretório temporário\n",
    "dir = '../01.Dados/Mapas/RJ-SETOR/TEMP'\n",
    "if not os.path.exists(dir):\n",
    "    os.makedirs(dir)"
   ]
  },
  {
   "cell_type": "code",
   "execution_count": 7,
   "metadata": {},
   "outputs": [
    {
     "data": {
      "text/plain": [
       "['33045570506.zip',\n",
       " '33045570507.zip',\n",
       " '33045570508.zip',\n",
       " '33045570509.zip',\n",
       " '33045570510.zip',\n",
       " '33045570511.zip',\n",
       " '33045570512.zip',\n",
       " '33045570513.zip',\n",
       " '33045570514.zip',\n",
       " '33045570515.zip',\n",
       " '33045570516.zip',\n",
       " '33045570517.zip',\n",
       " '33045570519.zip',\n",
       " '33045570520.zip',\n",
       " '33045570521.zip',\n",
       " '33045570522.zip',\n",
       " '33045570523.zip',\n",
       " '33045570524.zip',\n",
       " '33045570525.zip',\n",
       " '33045570526.zip',\n",
       " '33045570527.zip',\n",
       " '33045570528.zip',\n",
       " '33045570529.zip',\n",
       " '33045570530.zip',\n",
       " '33045570531.zip',\n",
       " '33045570532.zip',\n",
       " '33045570533.zip',\n",
       " '33045570534.zip',\n",
       " '33045570535.zip',\n",
       " '33045570536.zip',\n",
       " '33045570537.zip',\n",
       " '33045570538.zip',\n",
       " '33045570539.zip']"
      ]
     },
     "execution_count": 7,
     "metadata": {},
     "output_type": "execute_result"
    }
   ],
   "source": [
    "#Prenchendo o diretório.\n",
    "filenames = []\n",
    "for root, dirs, files in os.walk('../01.Dados/Mapas/RJ-SETOR/DADOS'):\n",
    "    filenames = files\n",
    "    \n",
    "filenames"
   ]
  },
  {
   "cell_type": "code",
   "execution_count": 9,
   "metadata": {},
   "outputs": [],
   "source": [
    "#extrair dentro do diretório temp\n",
    "for item in filenames:\n",
    "    # lendo o arquivo\n",
    "    zip_ref = zipfile.ZipFile('../01.Dados/Mapas/RJ-SETOR/DADOS/' + item, 'r')\n",
    "    #extraindo o arquivo\n",
    "    zip_ref.extractall(dir)\n",
    "    #Fechando a pasta \n",
    "    zip_ref.close()"
   ]
  },
  {
   "cell_type": "code",
   "execution_count": null,
   "metadata": {},
   "outputs": [],
   "source": []
  }
 ],
 "metadata": {
  "kernelspec": {
   "display_name": "Python 3",
   "language": "python",
   "name": "python3"
  },
  "language_info": {
   "codemirror_mode": {
    "name": "ipython",
    "version": 3
   },
   "file_extension": ".py",
   "mimetype": "text/x-python",
   "name": "python",
   "nbconvert_exporter": "python",
   "pygments_lexer": "ipython3",
   "version": "3.6.5"
  }
 },
 "nbformat": 4,
 "nbformat_minor": 2
}
